{
 "cells": [
  {
   "cell_type": "code",
   "execution_count": 1,
   "metadata": {},
   "outputs": [
    {
     "name": "stdout",
     "output_type": "stream",
     "text": [
      "Salary before update: 50000\n",
      "Salary after update: 60000\n"
     ]
    }
   ],
   "source": [
    "class Employee:\n",
    "    def __init__(self,name,salary):\n",
    "        self._name=name                                                       #private will have double underscore and protected will have single underscore\n",
    "        self._salary=salary\n",
    "        \n",
    "    def set_salary(self,salary):\n",
    "        self._salary= salary\n",
    "        \n",
    "    def get_salary(self):\n",
    "        return self._salary\n",
    "    \n",
    "emp = Employee(\"alice\",50000)\n",
    "print(f\"Salary before update:\",emp.get_salary())\n",
    "emp=Employee(\"alice\",60000)                        #emp.set_salary(666666)\n",
    "print(f\"Salary after update:\",emp.get_salary())"
   ]
  },
  {
   "cell_type": "code",
   "execution_count": 8,
   "metadata": {},
   "outputs": [
    {
     "name": "stdout",
     "output_type": "stream",
     "text": [
      "Salary before update: 50000\n",
      "Salary after update: 1000\n"
     ]
    }
   ],
   "source": [
    "class Employee:\n",
    "    def __init__(self,name,salary):\n",
    "        self._name=name\n",
    "        self._salary=salary\n",
    "        \n",
    "    def set_salary(self,salary):\n",
    "        self._salary= salary\n",
    "        \n",
    "    def get_salary(self):\n",
    "        return self._salary\n",
    "    \n",
    "emp = Employee(\"alice\",50000)\n",
    "print(f\"Salary before update:\",emp.get_salary())\n",
    "updated_salary = int(input(\"enter the salary\"))\n",
    "emp.set_salary(updated_salary)\n",
    "print(f\"Salary after update:\",emp.get_salary())"
   ]
  },
  {
   "cell_type": "code",
   "execution_count": 6,
   "metadata": {},
   "outputs": [
    {
     "name": "stdout",
     "output_type": "stream",
     "text": [
      "details are  10000 5000 1000\n"
     ]
    }
   ],
   "source": [
    "class Employee:\n",
    "    def __init__(self,name,salary,allowance,deduction):\n",
    "        self._name = name\n",
    "        self._salary = salary\n",
    "        self._allowance = allowance\n",
    "        self._deduction = deduction\n",
    "        \n",
    "    def set_salary(self,salary):\n",
    "        self._salary = salary\n",
    "        \n",
    "    def get_salary(self):\n",
    "        return self._salary\n",
    "    \n",
    "    def set_allowance(self,allowance):\n",
    "        self._allowance=allowance\n",
    "        \n",
    "    def get_allowance(self):\n",
    "        return self._allowance\n",
    "    \n",
    "    def set_deduction(self,deduction):\n",
    "        self._deduction=deduction\n",
    "        \n",
    "    def get_deduction(self):\n",
    "        return self._deduction\n",
    "    \n",
    "emp = Employee('Hari',10000,5000,1000)\n",
    "print(\"details are  \",emp.get_salary(),emp.get_allowance(),emp.get_deduction())   \n",
    "        \n",
    "    "
   ]
  },
  {
   "cell_type": "code",
   "execution_count": null,
   "metadata": {},
   "outputs": [],
   "source": []
  }
 ],
 "metadata": {
  "kernelspec": {
   "display_name": "Python 3",
   "language": "python",
   "name": "python3"
  },
  "language_info": {
   "codemirror_mode": {
    "name": "ipython",
    "version": 3
   },
   "file_extension": ".py",
   "mimetype": "text/x-python",
   "name": "python",
   "nbconvert_exporter": "python",
   "pygments_lexer": "ipython3",
   "version": "3.13.0b1"
  }
 },
 "nbformat": 4,
 "nbformat_minor": 2
}
