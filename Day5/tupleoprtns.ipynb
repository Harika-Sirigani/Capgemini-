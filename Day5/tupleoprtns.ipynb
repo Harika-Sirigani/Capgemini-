{
 "cells": [
  {
   "cell_type": "code",
   "execution_count": 9,
   "metadata": {},
   "outputs": [
    {
     "name": "stdout",
     "output_type": "stream",
     "text": [
      "an empty  tuple ()\n",
      "one term tuplr (0,)\n",
      "four term tuple (0, 'Ni', 1, 2, 3)\n",
      "nested tuple ('abc', ('def', 'ghi'))\n",
      "tuple of items in an iterable ('s', 'p', 'a', 'm')\n",
      "index ('def', 'ghi')\n",
      "index of index i\n",
      "slice: ('Ni', 1)\n",
      "len:  2\n"
     ]
    }
   ],
   "source": [
    "t=()                                     #An empty tuple\n",
    "t1 = (0,)                                # A one term tuple\n",
    "t2 = (0,'Ni',1,2,3)                      # a four item tuple\n",
    "t3 = 0, 'Ni',1,2,3                        # anothe 4 tuple\n",
    "t4 = ('abc',('def','ghi'))               # nested tuple\n",
    "t5 = tuple('spam')                       # tuple of items in an iterable\n",
    "x=t4[1]                                    # index\n",
    "y=t2[1][1]                                 # index of index\n",
    "z=t3[1:3]                                  #slice\n",
    "a=len(t4)                                   # length\n",
    "\n",
    "print(\"an empty  tuple\",t)\n",
    "print(\"one term tuplr\",t1)\n",
    "print(\"four term tuple\",t2)\n",
    "print(\"nested tuple\",t4)\n",
    "print(\"tuple of items in an iterable\",t5)\n",
    "print(\"index\",x)\n",
    "print(\"index of index\",y)\n",
    "print(\"slice:\",z)\n",
    "print(\"len: \",a)"
   ]
  },
  {
   "cell_type": "code",
   "execution_count": null,
   "metadata": {},
   "outputs": [],
   "source": []
  },
  {
   "cell_type": "code",
   "execution_count": null,
   "metadata": {},
   "outputs": [],
   "source": [
    "''''''"
   ]
  },
  {
   "cell_type": "markdown",
   "metadata": {},
   "source": []
  }
 ],
 "metadata": {
  "kernelspec": {
   "display_name": "Python 3",
   "language": "python",
   "name": "python3"
  },
  "language_info": {
   "codemirror_mode": {
    "name": "ipython",
    "version": 3
   },
   "file_extension": ".py",
   "mimetype": "text/x-python",
   "name": "python",
   "nbconvert_exporter": "python",
   "pygments_lexer": "ipython3",
   "version": "3.13.0"
  }
 },
 "nbformat": 4,
 "nbformat_minor": 2
}
