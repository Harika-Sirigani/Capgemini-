{
 "cells": [
  {
   "cell_type": "code",
   "execution_count": 10,
   "metadata": {},
   "outputs": [
    {
     "name": "stdout",
     "output_type": "stream",
     "text": [
      "This is the child class\n",
      "This is the parent class\n"
     ]
    }
   ],
   "source": [
    "#Single Inheritance\n",
    "\n",
    "class Parent:\n",
    "    def display_parent(self):\n",
    "        print(\"This is the parent class\")\n",
    "        \n",
    "class Child(Parent):\n",
    "    def display_child(self):\n",
    "        print(\"This is the child class\")\n",
    "        \n",
    "        \n",
    "        \n",
    "child = Child()\n",
    "child.display_child()\n",
    "child.display_parent()"
   ]
  },
  {
   "cell_type": "code",
   "execution_count": 28,
   "metadata": {},
   "outputs": [
    {
     "name": "stdout",
     "output_type": "stream",
     "text": [
      "This is the child class\n",
      "This is the parent class\n"
     ]
    }
   ],
   "source": [
    "#Single Inheritance\n",
    "\n",
    "class Parent:\n",
    "    \n",
    "    def __init__(self):\n",
    "        self.bignose = \"10cm\"\n",
    "        #print(self.bignose)\n",
    "    \n",
    "    def display_parent(self):\n",
    "        #self.bignose = \"10cm\"\n",
    "        print(\"This is the parent class\")\n",
    "        \n",
    "class Child(Parent):\n",
    "    \n",
    "    def __init__(self):\n",
    "        super().__init__()\n",
    "        \n",
    "    def display_child(self):\n",
    "        print(\"This is the child class\")\n",
    "        \n",
    "\n",
    "child = Child()\n",
    "child.display_child()\n",
    "child.display_parent()\n",
    "print(child.bignose)\n",
    "\n",
    "p = Parent()\n",
    "c = Child()\n",
    "p = c"
   ]
  },
  {
   "cell_type": "code",
   "execution_count": 38,
   "metadata": {},
   "outputs": [
    {
     "ename": "AttributeError",
     "evalue": "'College' object has no attribute 'name'",
     "output_type": "error",
     "traceback": [
      "\u001b[1;31m---------------------------------------------------------------------------\u001b[0m",
      "\u001b[1;31mAttributeError\u001b[0m                            Traceback (most recent call last)",
      "Cell \u001b[1;32mIn[38], line 25\u001b[0m\n\u001b[0;32m     22\u001b[0m         \u001b[38;5;28mprint\u001b[39m(\u001b[38;5;124m\"\u001b[39m\u001b[38;5;124mUg marks are :\u001b[39m\u001b[38;5;124m\"\u001b[39m,\u001b[38;5;28mself\u001b[39m\u001b[38;5;241m.\u001b[39mMarks)\n\u001b[0;32m     24\u001b[0m c \u001b[38;5;241m=\u001b[39m College()\n\u001b[1;32m---> 25\u001b[0m \u001b[43mc\u001b[49m\u001b[38;5;241;43m.\u001b[39;49m\u001b[43mdetails\u001b[49m\u001b[43m(\u001b[49m\u001b[43m)\u001b[49m\n\u001b[0;32m     26\u001b[0m c\u001b[38;5;241m.\u001b[39mUG()\n\u001b[0;32m     27\u001b[0m c\u001b[38;5;241m.\u001b[39mPG()\n",
      "Cell \u001b[1;32mIn[38], line 6\u001b[0m, in \u001b[0;36mSchool.details\u001b[1;34m(self)\u001b[0m\n\u001b[0;32m      2\u001b[0m \u001b[38;5;28;01mdef\u001b[39;00m\u001b[38;5;250m \u001b[39m\u001b[38;5;21mdetails\u001b[39m(\u001b[38;5;28mself\u001b[39m):\n\u001b[0;32m      3\u001b[0m     \u001b[38;5;66;03m#self.name= \"hari\"\u001b[39;00m\n\u001b[0;32m      4\u001b[0m     \u001b[38;5;66;03m#self.marks= 200\u001b[39;00m\n\u001b[0;32m      5\u001b[0m     name \u001b[38;5;241m=\u001b[39m \u001b[38;5;28minput\u001b[39m(\u001b[38;5;124m\"\u001b[39m\u001b[38;5;124menter the name\u001b[39m\u001b[38;5;124m\"\u001b[39m)\n\u001b[1;32m----> 6\u001b[0m     \u001b[38;5;28mprint\u001b[39m(\u001b[38;5;124m\"\u001b[39m\u001b[38;5;124mName :\u001b[39m\u001b[38;5;124m\"\u001b[39m, \u001b[38;5;28;43mself\u001b[39;49m\u001b[38;5;241;43m.\u001b[39;49m\u001b[43mname\u001b[49m)\n\u001b[0;32m      7\u001b[0m     marks \u001b[38;5;241m=\u001b[39m \u001b[38;5;28mint\u001b[39m(\u001b[38;5;28minput\u001b[39m(\u001b[38;5;124m\"\u001b[39m\u001b[38;5;124menter the marks :\u001b[39m\u001b[38;5;124m\"\u001b[39m))\n\u001b[0;32m      8\u001b[0m     \u001b[38;5;28mprint\u001b[39m(\u001b[38;5;124m\"\u001b[39m\u001b[38;5;124mMarks:\u001b[39m\u001b[38;5;124m\"\u001b[39m,\u001b[38;5;28mself\u001b[39m\u001b[38;5;241m.\u001b[39mmarks)\n",
      "\u001b[1;31mAttributeError\u001b[0m: 'College' object has no attribute 'name'"
     ]
    }
   ],
   "source": [
    "class School:\n",
    "    def details(self):\n",
    "        self.name= \"hari\"\n",
    "        self.marks= 200\n",
    "        name = input(\"enter the name\")\n",
    "        print(\"Name :\", self.name)\n",
    "        marks = int(input(\"enter the marks :\"))\n",
    "        print(\"Marks:\",self.marks)\n",
    "        \n",
    "class College(School):\n",
    "    def PG(self):\n",
    "        self.Dept= \"CSC\"\n",
    "        self.marks = 800\n",
    "        Dept = self.Dept\n",
    "        print(\"Pg dept are :\",self.Dept)\n",
    "        Marks = int(input(\"Enter the Mark:\"))\n",
    "        print(\"PG mrks are :\",self.marks)\n",
    "        \n",
    "    def UG(self):\n",
    "        self.Marks = 900\n",
    "        Marks = int(input(\"Enter the Marks :\"))\n",
    "        print(\"Ug marks are :\",self.Marks)\n",
    "        \n",
    "c = College()\n",
    "c.details()\n",
    "c.UG()\n",
    "c.PG()\n",
    "\n",
    "\n",
    "        \n",
    "        \n",
    "        \n",
    "        "
   ]
  },
  {
   "cell_type": "code",
   "execution_count": null,
   "metadata": {},
   "outputs": [],
   "source": []
  }
 ],
 "metadata": {
  "kernelspec": {
   "display_name": "Python 3",
   "language": "python",
   "name": "python3"
  },
  "language_info": {
   "codemirror_mode": {
    "name": "ipython",
    "version": 3
   },
   "file_extension": ".py",
   "mimetype": "text/x-python",
   "name": "python",
   "nbconvert_exporter": "python",
   "pygments_lexer": "ipython3",
   "version": "3.13.0"
  }
 },
 "nbformat": 4,
 "nbformat_minor": 2
}
